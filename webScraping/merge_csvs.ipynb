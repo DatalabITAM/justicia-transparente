{
 "metadata": {
  "language_info": {
   "codemirror_mode": {
    "name": "ipython",
    "version": 3
   },
   "file_extension": ".py",
   "mimetype": "text/x-python",
   "name": "python",
   "nbconvert_exporter": "python",
   "pygments_lexer": "ipython3",
   "version": "3.9.2"
  },
  "orig_nbformat": 2,
  "kernelspec": {
   "name": "python392jvsc74a57bd013ac3df32eef65f8ace8987a5332ff96461b2c59481d9f43d58c30a2f55284c7",
   "display_name": "Python 3.9.2 64-bit"
  },
  "metadata": {
   "interpreter": {
    "hash": "13ac3df32eef65f8ace8987a5332ff96461b2c59481d9f43d58c30a2f55284c7"
   }
  }
 },
 "nbformat": 4,
 "nbformat_minor": 2,
 "cells": [
  {
   "source": [
    "# Extraer PDFs y Ordenar csvs"
   ],
   "cell_type": "markdown",
   "metadata": {}
  },
  {
   "cell_type": "code",
   "execution_count": 2,
   "metadata": {},
   "outputs": [
    {
     "output_type": "stream",
     "name": "stdout",
     "text": [
      "Collecting unidecode\n",
      "  Downloading Unidecode-1.2.0-py2.py3-none-any.whl (241 kB)\n",
      "Installing collected packages: unidecode\n",
      "Successfully installed unidecode-1.2.0\n",
      "Note: you may need to restart the kernel to use updated packages.\n",
      "  WARNING: The script unidecode.exe is installed in 'C:\\Users\\fdmol\\AppData\\Local\\Programs\\Python\\Python39\\Scripts' which is not on PATH.\n",
      "  Consider adding this directory to PATH or, if you prefer to suppress this warning, use --no-warn-script-location.\n",
      "WARNING: You are using pip version 20.2.3; however, version 21.0.1 is available.\n",
      "You should consider upgrading via the 'C:\\Users\\fdmol\\AppData\\Local\\Programs\\Python\\Python39\\python.exe -m pip install --upgrade pip' command.\n"
     ]
    }
   ],
   "source": [
    "pip install unidecode"
   ]
  },
  {
   "source": [
    "import pandas as pd \n",
    "import numpy as np\n",
    "import requests\n",
    "from unidecode import unidecode"
   ],
   "cell_type": "code",
   "metadata": {},
   "execution_count": 3,
   "outputs": []
  },
  {
   "cell_type": "code",
   "execution_count": 8,
   "metadata": {},
   "outputs": [],
   "source": [
    "i = 2\n",
    "end = 18\n",
    "dfs_list = []\n",
    "while i < end:\n",
    "    df = pd.read_csv(f\"sentencias_penales_pag{i}.csv\",\n",
    "                     encoding='utf-8')\n",
    "    dfs_list.append(df)\n",
    "    i += 1"
   ]
  },
  {
   "cell_type": "code",
   "execution_count": 9,
   "metadata": {},
   "outputs": [
    {
     "output_type": "execute_result",
     "data": {
      "text/plain": [
       "        Fecha Emisión Fecha Publicación  \\\n",
       "0       18/marzo/2021     18/marzo/2021   \n",
       "1       10/marzo/2021     12/marzo/2021   \n",
       "2       04/marzo/2021     19/marzo/2021   \n",
       "3     26/febrero/2021     01/marzo/2021   \n",
       "4     24/febrero/2021     01/marzo/2021   \n",
       "...               ...               ...   \n",
       "3015    22/junio/2018     06/julio/2019   \n",
       "3016    22/junio/2018     05/julio/2019   \n",
       "3017    22/junio/2018     06/julio/2019   \n",
       "3018    21/junio/2018     27/julio/2019   \n",
       "3019    21/junio/2018     28/julio/2019   \n",
       "\n",
       "                              Delitos-Modalidades  \\\n",
       "0                              ROBO CON VIOLENCIA   \n",
       "1                              ATENTADOS AL PUDOR   \n",
       "2                     LESIONES DOLOSAS CALIFICADA   \n",
       "3                               HOMICIDIO CULPOSO   \n",
       "4            DELITOS CONTRA LA SALUD NARCOMENUDEO   \n",
       "...                                           ...   \n",
       "3015                                                \n",
       "3016                                                \n",
       "3017                                                \n",
       "3018  CORRUPCION DE MENORES, PORNOGRAFIA INFANTIL   \n",
       "3019                           ROBO CON VIOLENCIA   \n",
       "\n",
       "                                                   Juez Sentido del Fallo  \\\n",
       "0              MARÍA DEL SOCORRO PÉREZ CÓRDOVA(Elabora)      CONDENATORIO   \n",
       "1              PRIMITIVO JESÚS GUTIÉRREZ VÉLEZ(Elabora)      CONDENATORIO   \n",
       "2                     GRACIELA CÁZARES CHARLES(Elabora)      CONDENATORIO   \n",
       "3                     GRACIELA CÁZARES CHARLES(Elabora)      CONDENATORIO   \n",
       "4              MARÍA DEL SOCORRO PÉREZ CÓRDOVA(Elabora)      CONDENATORIO   \n",
       "...                                                 ...               ...   \n",
       "3015             CARLOS ALBERTO SALAS GONZÁLEZ(Elabora)      CONDENATORIO   \n",
       "3016      PATRICIA ALEJANDRA GUTIÉRREZ RAMÍREZ(Elabora)      CONDENATORIO   \n",
       "3017      PATRICIA ALEJANDRA GUTIÉRREZ RAMÍREZ(Elabora)      CONDENATORIO   \n",
       "3018  ALFREDO IRAM CÁZARES AYALA(Preside), VERÓNICA ...        SE REFORMA   \n",
       "3019             HERLINDO MENDOZA DÍAZ DE LEÓN(Elabora)      CONDENATORIO   \n",
       "\n",
       "                     Descripción o Criterios Judiciales  \\\n",
       "0                                SENTENCIA CONDENATORIA   \n",
       "1                                SENTENCIA CONDENATORIA   \n",
       "2                                SENTENCIA CONDENATORIA   \n",
       "3                                SENTENCIA CONDENATORIA   \n",
       "4                                SENTENCIA CONDENATORIA   \n",
       "...                                                 ...   \n",
       "3015  ROBO CALIFICADO EJECUTADO CON VIOLENCIA MORAL,...   \n",
       "3016  DELITO CONTRA LA SALUD, EN SU MODALIDAD DE NAR...   \n",
       "3017  CONTRA LA SALUD EN SU MODALIDAD DE NARCOMENUDE...   \n",
       "3018                                          SENTENCIA   \n",
       "3019                                            CONDENA   \n",
       "\n",
       "                                              Sentencia  \n",
       "0     https://www.pjenl.gob.mx/SentenciasPublicas/PD...  \n",
       "1     https://www.pjenl.gob.mx/SentenciasPublicas/PD...  \n",
       "2     https://www.pjenl.gob.mx/SentenciasPublicas/PD...  \n",
       "3     https://www.pjenl.gob.mx/SentenciasPublicas/PD...  \n",
       "4     https://www.pjenl.gob.mx/SentenciasPublicas/PD...  \n",
       "...                                                 ...  \n",
       "3015  https://www.pjenl.gob.mx/SentenciasPublicas/PD...  \n",
       "3016  https://www.pjenl.gob.mx/SentenciasPublicas/PD...  \n",
       "3017  https://www.pjenl.gob.mx/SentenciasPublicas/PD...  \n",
       "3018  https://www.pjenl.gob.mx/SentenciasPublicas/PD...  \n",
       "3019  https://www.pjenl.gob.mx/SentenciasPublicas/PD...  \n",
       "\n",
       "[3020 rows x 7 columns]"
      ],
      "text/html": "<div>\n<style scoped>\n    .dataframe tbody tr th:only-of-type {\n        vertical-align: middle;\n    }\n\n    .dataframe tbody tr th {\n        vertical-align: top;\n    }\n\n    .dataframe thead th {\n        text-align: right;\n    }\n</style>\n<table border=\"1\" class=\"dataframe\">\n  <thead>\n    <tr style=\"text-align: right;\">\n      <th></th>\n      <th>Fecha Emisión</th>\n      <th>Fecha Publicación</th>\n      <th>Delitos-Modalidades</th>\n      <th>Juez</th>\n      <th>Sentido del Fallo</th>\n      <th>Descripción o Criterios Judiciales</th>\n      <th>Sentencia</th>\n    </tr>\n  </thead>\n  <tbody>\n    <tr>\n      <th>0</th>\n      <td>18/marzo/2021</td>\n      <td>18/marzo/2021</td>\n      <td>ROBO CON VIOLENCIA</td>\n      <td>MARÍA DEL SOCORRO PÉREZ CÓRDOVA(Elabora)</td>\n      <td>CONDENATORIO</td>\n      <td>SENTENCIA CONDENATORIA</td>\n      <td>https://www.pjenl.gob.mx/SentenciasPublicas/PD...</td>\n    </tr>\n    <tr>\n      <th>1</th>\n      <td>10/marzo/2021</td>\n      <td>12/marzo/2021</td>\n      <td>ATENTADOS AL PUDOR</td>\n      <td>PRIMITIVO JESÚS GUTIÉRREZ VÉLEZ(Elabora)</td>\n      <td>CONDENATORIO</td>\n      <td>SENTENCIA CONDENATORIA</td>\n      <td>https://www.pjenl.gob.mx/SentenciasPublicas/PD...</td>\n    </tr>\n    <tr>\n      <th>2</th>\n      <td>04/marzo/2021</td>\n      <td>19/marzo/2021</td>\n      <td>LESIONES DOLOSAS CALIFICADA</td>\n      <td>GRACIELA CÁZARES CHARLES(Elabora)</td>\n      <td>CONDENATORIO</td>\n      <td>SENTENCIA CONDENATORIA</td>\n      <td>https://www.pjenl.gob.mx/SentenciasPublicas/PD...</td>\n    </tr>\n    <tr>\n      <th>3</th>\n      <td>26/febrero/2021</td>\n      <td>01/marzo/2021</td>\n      <td>HOMICIDIO CULPOSO</td>\n      <td>GRACIELA CÁZARES CHARLES(Elabora)</td>\n      <td>CONDENATORIO</td>\n      <td>SENTENCIA CONDENATORIA</td>\n      <td>https://www.pjenl.gob.mx/SentenciasPublicas/PD...</td>\n    </tr>\n    <tr>\n      <th>4</th>\n      <td>24/febrero/2021</td>\n      <td>01/marzo/2021</td>\n      <td>DELITOS CONTRA LA SALUD NARCOMENUDEO</td>\n      <td>MARÍA DEL SOCORRO PÉREZ CÓRDOVA(Elabora)</td>\n      <td>CONDENATORIO</td>\n      <td>SENTENCIA CONDENATORIA</td>\n      <td>https://www.pjenl.gob.mx/SentenciasPublicas/PD...</td>\n    </tr>\n    <tr>\n      <th>...</th>\n      <td>...</td>\n      <td>...</td>\n      <td>...</td>\n      <td>...</td>\n      <td>...</td>\n      <td>...</td>\n      <td>...</td>\n    </tr>\n    <tr>\n      <th>3015</th>\n      <td>22/junio/2018</td>\n      <td>06/julio/2019</td>\n      <td></td>\n      <td>CARLOS ALBERTO SALAS GONZÁLEZ(Elabora)</td>\n      <td>CONDENATORIO</td>\n      <td>ROBO CALIFICADO EJECUTADO CON VIOLENCIA MORAL,...</td>\n      <td>https://www.pjenl.gob.mx/SentenciasPublicas/PD...</td>\n    </tr>\n    <tr>\n      <th>3016</th>\n      <td>22/junio/2018</td>\n      <td>05/julio/2019</td>\n      <td></td>\n      <td>PATRICIA ALEJANDRA GUTIÉRREZ RAMÍREZ(Elabora)</td>\n      <td>CONDENATORIO</td>\n      <td>DELITO CONTRA LA SALUD, EN SU MODALIDAD DE NAR...</td>\n      <td>https://www.pjenl.gob.mx/SentenciasPublicas/PD...</td>\n    </tr>\n    <tr>\n      <th>3017</th>\n      <td>22/junio/2018</td>\n      <td>06/julio/2019</td>\n      <td></td>\n      <td>PATRICIA ALEJANDRA GUTIÉRREZ RAMÍREZ(Elabora)</td>\n      <td>CONDENATORIO</td>\n      <td>CONTRA LA SALUD EN SU MODALIDAD DE NARCOMENUDE...</td>\n      <td>https://www.pjenl.gob.mx/SentenciasPublicas/PD...</td>\n    </tr>\n    <tr>\n      <th>3018</th>\n      <td>21/junio/2018</td>\n      <td>27/julio/2019</td>\n      <td>CORRUPCION DE MENORES, PORNOGRAFIA INFANTIL</td>\n      <td>ALFREDO IRAM CÁZARES AYALA(Preside), VERÓNICA ...</td>\n      <td>SE REFORMA</td>\n      <td>SENTENCIA</td>\n      <td>https://www.pjenl.gob.mx/SentenciasPublicas/PD...</td>\n    </tr>\n    <tr>\n      <th>3019</th>\n      <td>21/junio/2018</td>\n      <td>28/julio/2019</td>\n      <td>ROBO CON VIOLENCIA</td>\n      <td>HERLINDO MENDOZA DÍAZ DE LEÓN(Elabora)</td>\n      <td>CONDENATORIO</td>\n      <td>CONDENA</td>\n      <td>https://www.pjenl.gob.mx/SentenciasPublicas/PD...</td>\n    </tr>\n  </tbody>\n</table>\n<p>3020 rows × 7 columns</p>\n</div>"
     },
     "metadata": {},
     "execution_count": 9
    }
   ],
   "source": [
    "concat_df = pd.concat(dfs_list, ignore_index=True)\n",
    "concat_df"
   ]
  },
  {
   "cell_type": "code",
   "execution_count": null,
   "metadata": {},
   "outputs": [],
   "source": []
  },
  {
   "cell_type": "code",
   "execution_count": 12,
   "metadata": {},
   "outputs": [
    {
     "output_type": "execute_result",
     "data": {
      "text/plain": [
       "        Fecha Emisión Fecha Publicación  \\\n",
       "0       18/marzo/2021     18/marzo/2021   \n",
       "1       10/marzo/2021     12/marzo/2021   \n",
       "2       04/marzo/2021     19/marzo/2021   \n",
       "3     26/febrero/2021     01/marzo/2021   \n",
       "4     24/febrero/2021     01/marzo/2021   \n",
       "...               ...               ...   \n",
       "2895    22/junio/2018     06/julio/2019   \n",
       "2896    22/junio/2018     05/julio/2019   \n",
       "2897    22/junio/2018     06/julio/2019   \n",
       "2898    21/junio/2018     27/julio/2019   \n",
       "2899    21/junio/2018     28/julio/2019   \n",
       "\n",
       "                              Delitos-Modalidades  \\\n",
       "0                              ROBO CON VIOLENCIA   \n",
       "1                              ATENTADOS AL PUDOR   \n",
       "2                     LESIONES DOLOSAS CALIFICADA   \n",
       "3                               HOMICIDIO CULPOSO   \n",
       "4            DELITOS CONTRA LA SALUD NARCOMENUDEO   \n",
       "...                                           ...   \n",
       "2895                                                \n",
       "2896                                                \n",
       "2897                                                \n",
       "2898  CORRUPCION DE MENORES, PORNOGRAFIA INFANTIL   \n",
       "2899                           ROBO CON VIOLENCIA   \n",
       "\n",
       "                                                   Juez Sentido del Fallo  \\\n",
       "0              MARÍA DEL SOCORRO PÉREZ CÓRDOVA(Elabora)      CONDENATORIO   \n",
       "1              PRIMITIVO JESÚS GUTIÉRREZ VÉLEZ(Elabora)      CONDENATORIO   \n",
       "2                     GRACIELA CÁZARES CHARLES(Elabora)      CONDENATORIO   \n",
       "3                     GRACIELA CÁZARES CHARLES(Elabora)      CONDENATORIO   \n",
       "4              MARÍA DEL SOCORRO PÉREZ CÓRDOVA(Elabora)      CONDENATORIO   \n",
       "...                                                 ...               ...   \n",
       "2895             CARLOS ALBERTO SALAS GONZÁLEZ(Elabora)      CONDENATORIO   \n",
       "2896      PATRICIA ALEJANDRA GUTIÉRREZ RAMÍREZ(Elabora)      CONDENATORIO   \n",
       "2897      PATRICIA ALEJANDRA GUTIÉRREZ RAMÍREZ(Elabora)      CONDENATORIO   \n",
       "2898  ALFREDO IRAM CÁZARES AYALA(Preside), VERÓNICA ...        SE REFORMA   \n",
       "2899             HERLINDO MENDOZA DÍAZ DE LEÓN(Elabora)      CONDENATORIO   \n",
       "\n",
       "                     Descripción o Criterios Judiciales  \\\n",
       "0                                SENTENCIA CONDENATORIA   \n",
       "1                                SENTENCIA CONDENATORIA   \n",
       "2                                SENTENCIA CONDENATORIA   \n",
       "3                                SENTENCIA CONDENATORIA   \n",
       "4                                SENTENCIA CONDENATORIA   \n",
       "...                                                 ...   \n",
       "2895  ROBO CALIFICADO EJECUTADO CON VIOLENCIA MORAL,...   \n",
       "2896  DELITO CONTRA LA SALUD, EN SU MODALIDAD DE NAR...   \n",
       "2897  CONTRA LA SALUD EN SU MODALIDAD DE NARCOMENUDE...   \n",
       "2898                                          SENTENCIA   \n",
       "2899                                            CONDENA   \n",
       "\n",
       "                                              Sentencia  \n",
       "0     https://www.pjenl.gob.mx/SentenciasPublicas/PD...  \n",
       "1     https://www.pjenl.gob.mx/SentenciasPublicas/PD...  \n",
       "2     https://www.pjenl.gob.mx/SentenciasPublicas/PD...  \n",
       "3     https://www.pjenl.gob.mx/SentenciasPublicas/PD...  \n",
       "4     https://www.pjenl.gob.mx/SentenciasPublicas/PD...  \n",
       "...                                                 ...  \n",
       "2895  https://www.pjenl.gob.mx/SentenciasPublicas/PD...  \n",
       "2896  https://www.pjenl.gob.mx/SentenciasPublicas/PD...  \n",
       "2897  https://www.pjenl.gob.mx/SentenciasPublicas/PD...  \n",
       "2898  https://www.pjenl.gob.mx/SentenciasPublicas/PD...  \n",
       "2899  https://www.pjenl.gob.mx/SentenciasPublicas/PD...  \n",
       "\n",
       "[2900 rows x 7 columns]"
      ],
      "text/html": "<div>\n<style scoped>\n    .dataframe tbody tr th:only-of-type {\n        vertical-align: middle;\n    }\n\n    .dataframe tbody tr th {\n        vertical-align: top;\n    }\n\n    .dataframe thead th {\n        text-align: right;\n    }\n</style>\n<table border=\"1\" class=\"dataframe\">\n  <thead>\n    <tr style=\"text-align: right;\">\n      <th></th>\n      <th>Fecha Emisión</th>\n      <th>Fecha Publicación</th>\n      <th>Delitos-Modalidades</th>\n      <th>Juez</th>\n      <th>Sentido del Fallo</th>\n      <th>Descripción o Criterios Judiciales</th>\n      <th>Sentencia</th>\n    </tr>\n  </thead>\n  <tbody>\n    <tr>\n      <th>0</th>\n      <td>18/marzo/2021</td>\n      <td>18/marzo/2021</td>\n      <td>ROBO CON VIOLENCIA</td>\n      <td>MARÍA DEL SOCORRO PÉREZ CÓRDOVA(Elabora)</td>\n      <td>CONDENATORIO</td>\n      <td>SENTENCIA CONDENATORIA</td>\n      <td>https://www.pjenl.gob.mx/SentenciasPublicas/PD...</td>\n    </tr>\n    <tr>\n      <th>1</th>\n      <td>10/marzo/2021</td>\n      <td>12/marzo/2021</td>\n      <td>ATENTADOS AL PUDOR</td>\n      <td>PRIMITIVO JESÚS GUTIÉRREZ VÉLEZ(Elabora)</td>\n      <td>CONDENATORIO</td>\n      <td>SENTENCIA CONDENATORIA</td>\n      <td>https://www.pjenl.gob.mx/SentenciasPublicas/PD...</td>\n    </tr>\n    <tr>\n      <th>2</th>\n      <td>04/marzo/2021</td>\n      <td>19/marzo/2021</td>\n      <td>LESIONES DOLOSAS CALIFICADA</td>\n      <td>GRACIELA CÁZARES CHARLES(Elabora)</td>\n      <td>CONDENATORIO</td>\n      <td>SENTENCIA CONDENATORIA</td>\n      <td>https://www.pjenl.gob.mx/SentenciasPublicas/PD...</td>\n    </tr>\n    <tr>\n      <th>3</th>\n      <td>26/febrero/2021</td>\n      <td>01/marzo/2021</td>\n      <td>HOMICIDIO CULPOSO</td>\n      <td>GRACIELA CÁZARES CHARLES(Elabora)</td>\n      <td>CONDENATORIO</td>\n      <td>SENTENCIA CONDENATORIA</td>\n      <td>https://www.pjenl.gob.mx/SentenciasPublicas/PD...</td>\n    </tr>\n    <tr>\n      <th>4</th>\n      <td>24/febrero/2021</td>\n      <td>01/marzo/2021</td>\n      <td>DELITOS CONTRA LA SALUD NARCOMENUDEO</td>\n      <td>MARÍA DEL SOCORRO PÉREZ CÓRDOVA(Elabora)</td>\n      <td>CONDENATORIO</td>\n      <td>SENTENCIA CONDENATORIA</td>\n      <td>https://www.pjenl.gob.mx/SentenciasPublicas/PD...</td>\n    </tr>\n    <tr>\n      <th>...</th>\n      <td>...</td>\n      <td>...</td>\n      <td>...</td>\n      <td>...</td>\n      <td>...</td>\n      <td>...</td>\n      <td>...</td>\n    </tr>\n    <tr>\n      <th>2895</th>\n      <td>22/junio/2018</td>\n      <td>06/julio/2019</td>\n      <td></td>\n      <td>CARLOS ALBERTO SALAS GONZÁLEZ(Elabora)</td>\n      <td>CONDENATORIO</td>\n      <td>ROBO CALIFICADO EJECUTADO CON VIOLENCIA MORAL,...</td>\n      <td>https://www.pjenl.gob.mx/SentenciasPublicas/PD...</td>\n    </tr>\n    <tr>\n      <th>2896</th>\n      <td>22/junio/2018</td>\n      <td>05/julio/2019</td>\n      <td></td>\n      <td>PATRICIA ALEJANDRA GUTIÉRREZ RAMÍREZ(Elabora)</td>\n      <td>CONDENATORIO</td>\n      <td>DELITO CONTRA LA SALUD, EN SU MODALIDAD DE NAR...</td>\n      <td>https://www.pjenl.gob.mx/SentenciasPublicas/PD...</td>\n    </tr>\n    <tr>\n      <th>2897</th>\n      <td>22/junio/2018</td>\n      <td>06/julio/2019</td>\n      <td></td>\n      <td>PATRICIA ALEJANDRA GUTIÉRREZ RAMÍREZ(Elabora)</td>\n      <td>CONDENATORIO</td>\n      <td>CONTRA LA SALUD EN SU MODALIDAD DE NARCOMENUDE...</td>\n      <td>https://www.pjenl.gob.mx/SentenciasPublicas/PD...</td>\n    </tr>\n    <tr>\n      <th>2898</th>\n      <td>21/junio/2018</td>\n      <td>27/julio/2019</td>\n      <td>CORRUPCION DE MENORES, PORNOGRAFIA INFANTIL</td>\n      <td>ALFREDO IRAM CÁZARES AYALA(Preside), VERÓNICA ...</td>\n      <td>SE REFORMA</td>\n      <td>SENTENCIA</td>\n      <td>https://www.pjenl.gob.mx/SentenciasPublicas/PD...</td>\n    </tr>\n    <tr>\n      <th>2899</th>\n      <td>21/junio/2018</td>\n      <td>28/julio/2019</td>\n      <td>ROBO CON VIOLENCIA</td>\n      <td>HERLINDO MENDOZA DÍAZ DE LEÓN(Elabora)</td>\n      <td>CONDENATORIO</td>\n      <td>CONDENA</td>\n      <td>https://www.pjenl.gob.mx/SentenciasPublicas/PD...</td>\n    </tr>\n  </tbody>\n</table>\n<p>2900 rows × 7 columns</p>\n</div>"
     },
     "metadata": {},
     "execution_count": 12
    }
   ],
   "source": [
    "concat_df.drop_duplicates(subset=['Sentencia'], keep='last').reset_index(drop = True)"
   ]
  }
 ]
}